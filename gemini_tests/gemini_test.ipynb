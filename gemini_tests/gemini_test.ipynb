{
 "cells": [
  {
   "cell_type": "code",
   "execution_count": 1,
   "metadata": {},
   "outputs": [
    {
     "name": "stderr",
     "output_type": "stream",
     "text": [
      "/Users/ashissamal/ashis_venv/lib/python3.11/site-packages/tqdm/auto.py:21: TqdmWarning: IProgress not found. Please update jupyter and ipywidgets. See https://ipywidgets.readthedocs.io/en/stable/user_install.html\n",
      "  from .autonotebook import tqdm as notebook_tqdm\n"
     ]
    }
   ],
   "source": [
    "import os\n",
    "import google.generativeai as genai\n",
    "import csv \n",
    "\n",
    "genai.configure(api_key='GEMINI_KEY')\n",
    "#os.getenv(\"GOOGLE_API_KEY\"))\n",
    "model = genai.GenerativeModel(model_name=\"models/gemini-1.5-flash\")"
   ]
  },
  {
   "cell_type": "code",
   "execution_count": 2,
   "metadata": {},
   "outputs": [
    {
     "name": "stdout",
     "output_type": "stream",
     "text": [
      "Uploaded file 'MSME data' as: https://generativelanguage.googleapis.com/v1beta/files/d8z7z4i8lg15\n"
     ]
    }
   ],
   "source": [
    "sample_file = genai.upload_file(path=\"msme_data.csv\", display_name=\"MSME data\")\n",
    "\n",
    "print(f\"Uploaded file '{sample_file.display_name}' as: {sample_file.uri}\")"
   ]
  },
  {
   "cell_type": "code",
   "execution_count": 8,
   "metadata": {},
   "outputs": [
    {
     "name": "stdout",
     "output_type": "stream",
     "text": [
      "Based on the data provided, **Company G (Automotive)** has the highest revenue in Q1 2023 with **$800 Million**. \n",
      "\n"
     ]
    }
   ],
   "source": [
    "# query = \"what was the revenue of company A in Q1 2023\"\n",
    "query = \"which company has the highest revenue in Q1 2023\"\n",
    "response = model.generate_content(\n",
    "    [query, sample_file]\n",
    ")\n",
    "print(response.text)"
   ]
  },
  {
   "cell_type": "code",
   "execution_count": null,
   "metadata": {},
   "outputs": [],
   "source": []
  }
 ],
 "metadata": {
  "kernelspec": {
   "display_name": "ashis_venv",
   "language": "python",
   "name": "ashis_venv"
  },
  "language_info": {
   "codemirror_mode": {
    "name": "ipython",
    "version": 3
   },
   "file_extension": ".py",
   "mimetype": "text/x-python",
   "name": "python",
   "nbconvert_exporter": "python",
   "pygments_lexer": "ipython3",
   "version": "3.11.0"
  },
  "orig_nbformat": 4,
  "vscode": {
   "interpreter": {
    "hash": "aee8b7b246df8f9039afb4144a1f6fd8d2ca17a180786b69acc140d282b71a49"
   }
  }
 },
 "nbformat": 4,
 "nbformat_minor": 2
}
